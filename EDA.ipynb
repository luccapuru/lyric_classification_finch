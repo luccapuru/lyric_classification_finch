{
 "cells": [
  {
   "cell_type": "code",
   "execution_count": 1,
   "metadata": {},
   "outputs": [
    {
     "name": "stderr",
     "output_type": "stream",
     "text": [
      "[nltk_data] Downloading package rslp to\n",
      "[nltk_data]     C:\\Users\\lucca\\AppData\\Roaming\\nltk_data...\n",
      "[nltk_data]   Package rslp is already up-to-date!\n"
     ]
    },
    {
     "data": {
      "text/plain": [
       "True"
      ]
     },
     "execution_count": 1,
     "metadata": {},
     "output_type": "execute_result"
    }
   ],
   "source": [
    "import pandas as pd\n",
    "import matplotlib.pyplot as plt\n",
    "import seaborn as sns\n",
    "import codecs\n",
    "import re\n",
    "import string\n",
    "import numpy as np\n",
    "\n",
    "from nltk.stem import RSLPStemmer             \n",
    "from nltk.tokenize import TweetTokenizer   \n",
    "from tqdm import tqdm\n",
    "from sklearn.feature_extraction.text import CountVectorizer\n",
    "\n",
    "from sklearn.metrics import confusion_matrix, roc_curve, roc_auc_score\n",
    "from sklearn.ensemble import RandomForestClassifier\n",
    "from sklearn.model_selection import train_test_split, GridSearchCV\n",
    "from sklearn.linear_model import LogisticRegression\n",
    "from sklearn.svm import SVC\n",
    "from sklearn import model_selection\n",
    "\n",
    "import nltk \n",
    "nltk.download('rslp')"
   ]
  },
  {
   "cell_type": "code",
   "execution_count": 2,
   "metadata": {},
   "outputs": [
    {
     "data": {
      "text/html": [
       "<div>\n",
       "<style scoped>\n",
       "    .dataframe tbody tr th:only-of-type {\n",
       "        vertical-align: middle;\n",
       "    }\n",
       "\n",
       "    .dataframe tbody tr th {\n",
       "        vertical-align: top;\n",
       "    }\n",
       "\n",
       "    .dataframe thead th {\n",
       "        text-align: right;\n",
       "    }\n",
       "</style>\n",
       "<table border=\"1\" class=\"dataframe\">\n",
       "  <thead>\n",
       "    <tr style=\"text-align: right;\">\n",
       "      <th></th>\n",
       "      <th>lyric</th>\n",
       "    </tr>\n",
       "  </thead>\n",
       "  <tbody>\n",
       "    <tr>\n",
       "      <th>0</th>\n",
       "      <td>\\nSer feliz pra mim não custa caro\\nSe você t...</td>\n",
       "    </tr>\n",
       "    <tr>\n",
       "      <th>1</th>\n",
       "      <td>\\nMãe, hoje eu descobri que eu cresci\\nÉ que ...</td>\n",
       "    </tr>\n",
       "    <tr>\n",
       "      <th>2</th>\n",
       "      <td>\\nAí você escolhe a melhor roupa\\nAí você arr...</td>\n",
       "    </tr>\n",
       "    <tr>\n",
       "      <th>3</th>\n",
       "      <td>\\nOi, tudo bem?\\nQue bom te ver\\nA gente fico...</td>\n",
       "    </tr>\n",
       "    <tr>\n",
       "      <th>4</th>\n",
       "      <td>\\nSó vim me desculpar\\nEu não vou demorar\\nNã...</td>\n",
       "    </tr>\n",
       "    <tr>\n",
       "      <th>...</th>\n",
       "      <td>...</td>\n",
       "    </tr>\n",
       "    <tr>\n",
       "      <th>795</th>\n",
       "      <td>\\nA luta chegou de repente\\nE te colocou fren...</td>\n",
       "    </tr>\n",
       "    <tr>\n",
       "      <th>796</th>\n",
       "      <td>\\nPara de mentir pra você mesmo\\nSeu amor por...</td>\n",
       "    </tr>\n",
       "    <tr>\n",
       "      <th>797</th>\n",
       "      <td>\\nQuadros nunca esquecem e sempre contarão\\nO...</td>\n",
       "    </tr>\n",
       "    <tr>\n",
       "      <th>798</th>\n",
       "      <td>\\nVoltei era de madrugada e me assustei\\nAs l...</td>\n",
       "    </tr>\n",
       "    <tr>\n",
       "      <th>799</th>\n",
       "      <td>\\nA gente fala, fala, fala e não diz nada\\nNa...</td>\n",
       "    </tr>\n",
       "  </tbody>\n",
       "</table>\n",
       "<p>800 rows × 1 columns</p>\n",
       "</div>"
      ],
      "text/plain": [
       "                                                 lyric\n",
       "0     \\nSer feliz pra mim não custa caro\\nSe você t...\n",
       "1     \\nMãe, hoje eu descobri que eu cresci\\nÉ que ...\n",
       "2     \\nAí você escolhe a melhor roupa\\nAí você arr...\n",
       "3     \\nOi, tudo bem?\\nQue bom te ver\\nA gente fico...\n",
       "4     \\nSó vim me desculpar\\nEu não vou demorar\\nNã...\n",
       "..                                                 ...\n",
       "795   \\nA luta chegou de repente\\nE te colocou fren...\n",
       "796   \\nPara de mentir pra você mesmo\\nSeu amor por...\n",
       "797   \\nQuadros nunca esquecem e sempre contarão\\nO...\n",
       "798   \\nVoltei era de madrugada e me assustei\\nAs l...\n",
       "799   \\nA gente fala, fala, fala e não diz nada\\nNa...\n",
       "\n",
       "[800 rows x 1 columns]"
      ]
     },
     "execution_count": 2,
     "metadata": {},
     "output_type": "execute_result"
    }
   ],
   "source": [
    "bossa_nova_df = pd.read_csv(\"data/bossa_nova.csv\")\n",
    "funk_df = pd.read_csv(\"data/funk.csv\")\n",
    "gospel_df = pd.read_csv(\"data/gospel.csv\")\n",
    "sertanejo_df = pd.read_csv(\"data/sertanejo.csv\")\n",
    "sertanejo_df"
   ]
  },
  {
   "cell_type": "code",
   "execution_count": 3,
   "metadata": {},
   "outputs": [
    {
     "data": {
      "text/plain": [
       "' \\nEu sei que vou te amar\\nPor toda a minha vida eu vou te amar\\nEm cada despedida eu vou te amar\\nDesesperadamente, eu sei que vou te amar\\nE cada verso meu será\\nPra te dizer que eu sei que vou te amar\\nPor toda minha vida\\nEu sei que vou chorar\\nA cada ausência tua eu vou chorar\\nMas cada volta tua há de apagar\\nO que esta ausência tua me causou\\nEu sei que vou sofrer a eterna desventura de viver\\nA espera de viver ao lado teu\\nPor toda a minha vida '"
      ]
     },
     "execution_count": 3,
     "metadata": {},
     "output_type": "execute_result"
    }
   ],
   "source": [
    "bossa_nova_df[\"lyric\"][0]"
   ]
  },
  {
   "cell_type": "code",
   "execution_count": 4,
   "metadata": {},
   "outputs": [
    {
     "data": {
      "text/plain": [
       "<AxesSubplot: title={'center': 'Contagem de Músicas por Gênero'}>"
      ]
     },
     "execution_count": 4,
     "metadata": {},
     "output_type": "execute_result"
    },
    {
     "data": {
      "image/png": "[encoded data removed]",
      "text/plain": [
       "<Figure size 1400x600 with 1 Axes>"
      ]
     },
     "metadata": {},
     "output_type": "display_data"
    }
   ],
   "source": [
    "song_count = pd.DataFrame({\"Bossa Nova\":[len(bossa_nova_df)], \"Funk\":[len(funk_df)], \"Gospel\":[len(gospel_df)], \"Sertanejo\":[len(sertanejo_df)]})\n",
    "plt.figure(figsize=(14,6))\n",
    "plt.title(\"Contagem de Músicas por Gênero\")\n",
    "sns.barplot(data=song_count,palette=\"viridis\")"
   ]
  },
  {
   "cell_type": "code",
   "execution_count": 5,
   "metadata": {},
   "outputs": [
    {
     "data": {
      "text/plain": [
       "\" \\nIn my loneliness \\nWhen you're gone and I'm all by muself \\nAnd I need your caress \\nI just think of you \\nAnd the thought of you holding me near \\nMakes my loneliness soon disappear \\nThough you're far away \\nI have only to close my eyes \\nAnd you are back to stay \\nI just close my eyes \\nAnd the sadness that missing you brings \\nSoon is gone and this heart of mine sings \\nYes I love you so \\nAnd that for me is all I need to know \\nI will wait for you \\nTil the sun falls from out of the sky \\nFor what else can I do \\nI will wait for you meditating \\nHow sweet life will be \\nWhen you come back to me \""
      ]
     },
     "execution_count": 5,
     "metadata": {},
     "output_type": "execute_result"
    }
   ],
   "source": [
    "bossa_nova_df[\"lyric\"][len(bossa_nova_df)-1]"
   ]
  }
 ],
 "metadata": {
  "kernelspec": {
   "display_name": "venv",
   "language": "python",
   "name": "python3"
  },
  "language_info": {
   "codemirror_mode": {
    "name": "ipython",
    "version": 3
   },
   "file_extension": ".py",
   "mimetype": "text/x-python",
   "name": "python",
   "nbconvert_exporter": "python",
   "pygments_lexer": "ipython3",
   "version": "3.10.0"
  },
  "orig_nbformat": 4,
  "vscode": {
   "interpreter": {
    "hash": "0f50428c69539b743664f279134a8427a9af4e15d39ecb2e75b09044553df1af"
   }
  }
 },
 "nbformat": 4,
 "nbformat_minor": 2
}
